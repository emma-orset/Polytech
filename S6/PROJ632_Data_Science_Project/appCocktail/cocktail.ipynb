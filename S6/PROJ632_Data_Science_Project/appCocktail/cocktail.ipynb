{
  "cells": [
    {
      "cell_type": "code",
      "execution_count": 19,
      "metadata": {
        "id": "k3ZdTsYB4mls"
      },
      "outputs": [],
      "source": [
        "import requests\n",
        "import json"
      ]
    },
    {
      "cell_type": "code",
      "execution_count": 20,
      "metadata": {
        "id": "Wh35Ic5-4wj6"
      },
      "outputs": [],
      "source": [
        "def get_ingredient():\n",
        "  listIngredient = []\n",
        "  r_i = requests.get('https://www.thecocktaildb.com/api/json/v1/1/list.php?i=list')\n",
        "  dic = json.loads(r_i.text)\n",
        "  for k in dic[\"drinks\"]:\n",
        "    for valeur in k.values():\n",
        "      listIngredient.append(valeur)\n",
        "      print(valeur,end=\",\")\n",
        "  return listIngredient"
      ]
    },
    {
      "cell_type": "code",
      "execution_count": 21,
      "metadata": {
        "id": "qWw8rICZBQia"
      },
      "outputs": [],
      "source": [
        "def ask_ingredient(): \n",
        "  wishList = [];\n",
        "  x = \"\"\n",
        "  print('\\nYou can choose 2 ingredients max:')\n",
        "  while len(wishList) < 2:\n",
        "    print('\\nEnter an ingredient from the list:')\n",
        "    listIngredient = get_ingredient()\n",
        "    x = input()\n",
        "    if x == \"\":\n",
        "      break\n",
        "    if x not in listIngredient:\n",
        "      print('\\nImpossible. '+ x +' is unknown. Enter an ingredient from the list:')\n",
        "      get_ingredient()\n",
        "      x = input()\n",
        "    wishList.append(x)\n",
        "  return wishList"
      ]
    },
    {
      "cell_type": "code",
      "execution_count": 22,
      "metadata": {
        "id": "go1-6kgcQfJy"
      },
      "outputs": [],
      "source": [
        "def sort_list(listNonSorted):\n",
        "  new_list = [] \n",
        "  for i in listNonSorted : \n",
        "      if i not in new_list: \n",
        "          new_list.append(i)\n",
        "  return new_list"
      ]
    },
    {
      "cell_type": "code",
      "execution_count": 23,
      "metadata": {
        "id": "Y-JQeRit7Q02"
      },
      "outputs": [],
      "source": [
        "def intersect(listCocktail):\n",
        "  if len(listCocktail) > 1:\n",
        "    listCocktailSet = (set(listCocktail[0])).intersection(set(listCocktail[1]))\n",
        "\n",
        "    if listCocktailSet == 0:\n",
        "      return 0\n",
        "    else:\n",
        "      return listCocktailSet\n",
        "  else:\n",
        "    return listCocktail\n"
      ]
    },
    {
      "cell_type": "code",
      "execution_count": 24,
      "metadata": {
        "id": "YMHfJ66iNrCU"
      },
      "outputs": [],
      "source": [
        "def get_coktail_from_ingredient(listIngredient):\n",
        "  listCocktail = []\n",
        "\n",
        "  for i in listIngredient:\n",
        "    temp_list = []\n",
        "    r_i = requests.get('https://www.thecocktaildb.com/api/json/v1/1/filter.php?i=' + i)\n",
        "    dic = json.loads(r_i.text)\n",
        "    for j in dic[\"drinks\"]:\n",
        "      for cle, value in j.items():\n",
        "        if cle == \"strDrink\":\n",
        "          temp_list.append(value)\n",
        "    listCocktail.append(temp_list)\n",
        "  print(intersect(listCocktail))\n",
        "  return intersect(listCocktail)"
      ]
    },
    {
      "cell_type": "code",
      "execution_count": 25,
      "metadata": {
        "id": "1g_2dJcd7gRP"
      },
      "outputs": [],
      "source": [
        "def get_cocktail(cocktail):\n",
        "  req = requests.get('https://www.thecocktaildb.com/api/json/v1/1/search.php?s=' + cocktail)\n",
        "  dic = json.loads(req.text)\n",
        "  alcohol = \"\"\n",
        "  listIngredient = []\n",
        "  listMeasure = []\n",
        "  glass =\"\"\n",
        "  category = \"\"\n",
        "  strIngredient = \"\"\n",
        "\n",
        "  for j in dic[\"drinks\"]:\n",
        "    for key, value in j.items():\n",
        "      if key == \"strAlcoholic\":\n",
        "        alcohol = value\n",
        "\n",
        "      if key == \"strGlass\":\n",
        "        glass = value\n",
        "\n",
        "      if key == \"strCategory\":\n",
        "        category = value\n",
        "\n",
        "      for i in range(1,16):\n",
        "        if key == \"strIngredient\" + str(i) and value != None:\n",
        "          listIngredient.append(value)\n",
        "        \n",
        "\n",
        "    \n",
        "    for i in range (len(listIngredient)):\n",
        "      strIngredient = listIngredient[i] + \", \" + strIngredient\n",
        "    \n",
        "    print(\"\\nIntrusction for \" + cocktail + \":\\n\" + alcohol + \" \" + category +\"\\nYou will need:\", strIngredient, \"\\nYou can put this in a\", glass)\n",
        "      \n",
        "\n",
        "      \n"
      ]
    },
    {
      "cell_type": "code",
      "execution_count": 26,
      "metadata": {
        "id": "_TFnMZ2CTzGm"
      },
      "outputs": [],
      "source": [
        "\n",
        "def ask_cocktail(listIngredient): \n",
        "  listCocktail = []\n",
        "  wishCocktail = \"\"\n",
        "  x = \"\"\n",
        "  while wishCocktail == \"\" :\n",
        "\n",
        "    print('\\nWhich cocktail do you want to make?\\n')\n",
        "    listCocktail = sort_list(get_coktail_from_ingredient(listIngredient))\n",
        "    x = input()\n",
        "    if x == \"\":\n",
        "      break\n",
        "\n",
        "    if x not in listCocktail:\n",
        "      print('\\nImpossible. '+ x +' is unknown. \\nEnter a cocktail from the list :')\n",
        "      get_coktail_from_ingredient(listIngredient)\n",
        "      x = input()\n",
        "    wishCocktail = x\n",
        "\n",
        "  if listCocktail != {}:\n",
        "    if wishCocktail != \"\":\n",
        "      print(\"\\nYou have chosen to make the cocktail :\" , wishCocktail)\n",
        "      wishCocktail.replace(\" \", \"_\")\n",
        "      get_cocktail(wishCocktail)\n",
        "    else:\n",
        "      print(\"\\nShame ! You will make a cocktail next time!\")\n",
        "\n"
      ]
    },
    {
      "cell_type": "code",
      "execution_count": 27,
      "metadata": {
        "colab": {
          "base_uri": "https://localhost:8080/",
          "height": 0
        },
        "id": "ioWbu_WGW9aJ",
        "outputId": "3fa19ca1-cbed-4f3d-a372-e356ff0cae26"
      },
      "outputs": [
        {
          "name": "stdout",
          "output_type": "stream",
          "text": [
            "\n",
            "You can choose 2 ingredients max:\n",
            "\n",
            "Enter an ingredient from the list:\n",
            "Light rum,Applejack,Gin,Dark rum,Sweet Vermouth,Strawberry schnapps,Scotch,Apricot brandy,Triple sec,Southern Comfort,Orange bitters,Brandy,Lemon vodka,Blended whiskey,Dry Vermouth,Amaretto,Tea,Champagne,Coffee liqueur,Bourbon,Tequila,Vodka,Añejo rum,Bitters,Sugar,Kahlua,demerara Sugar,Dubonnet Rouge,Watermelon,Lime juice,Irish whiskey,Apple brandy,Carbonated water,Cherry brandy,Creme de Cacao,Grenadine,Port,Coffee brandy,Red wine,Rum,Grapefruit juice,Ricard,Sherry,Cognac,Sloe gin,Apple juice,Pineapple juice,Lemon juice,Sugar syrup,Milk,Strawberries,Chocolate syrup,Yoghurt,Mango,Ginger,Lime,Cantaloupe,Berries,Grapes,Kiwi,Tomato juice,Cocoa powder,Chocolate,Heavy cream,Galliano,Peach Vodka,Ouzo,Coffee,Spiced rum,Water,Espresso,Angelica root,Orange,Cranberries,Johnnie Walker,Apple cider,Everclear,Cranberry juice,Egg yolk,Egg,Grape juice,Peach nectar,Lemon,Firewater,Lemonade,Lager,Whiskey,Absolut Citron,Pisco,Irish cream,Ale,Chocolate liqueur,Midori melon liqueur,Sambuca,Cider,Sprite,7-Up,Blackberry brandy,Peppermint schnapps,Creme de Cassis,"
          ]
        },
        {
          "name": "stdout",
          "output_type": "stream",
          "text": [
            "\n",
            "Enter an ingredient from the list:\n",
            "Light rum,Applejack,Gin,Dark rum,Sweet Vermouth,Strawberry schnapps,Scotch,Apricot brandy,Triple sec,Southern Comfort,Orange bitters,Brandy,Lemon vodka,Blended whiskey,Dry Vermouth,Amaretto,Tea,Champagne,Coffee liqueur,Bourbon,Tequila,Vodka,Añejo rum,Bitters,Sugar,Kahlua,demerara Sugar,Dubonnet Rouge,Watermelon,Lime juice,Irish whiskey,Apple brandy,Carbonated water,Cherry brandy,Creme de Cacao,Grenadine,Port,Coffee brandy,Red wine,Rum,Grapefruit juice,Ricard,Sherry,Cognac,Sloe gin,Apple juice,Pineapple juice,Lemon juice,Sugar syrup,Milk,Strawberries,Chocolate syrup,Yoghurt,Mango,Ginger,Lime,Cantaloupe,Berries,Grapes,Kiwi,Tomato juice,Cocoa powder,Chocolate,Heavy cream,Galliano,Peach Vodka,Ouzo,Coffee,Spiced rum,Water,Espresso,Angelica root,Orange,Cranberries,Johnnie Walker,Apple cider,Everclear,Cranberry juice,Egg yolk,Egg,Grape juice,Peach nectar,Lemon,Firewater,Lemonade,Lager,Whiskey,Absolut Citron,Pisco,Irish cream,Ale,Chocolate liqueur,Midori melon liqueur,Sambuca,Cider,Sprite,7-Up,Blackberry brandy,Peppermint schnapps,Creme de Cassis,\n",
            "Which cocktail do you want to make?\n",
            "\n",
            "[['3-Mile Long Island Iced Tea', '69 Special', 'A1', 'Abbey Cocktail', 'Abbey Martini', 'Ace', 'Adam & Eve', 'Addison', 'Alaska Cocktail', 'Alexander', 'Allies Cocktail', 'Angel Face', 'Archbishop', 'Army special', 'Arthur Tompkins', 'Artillery', 'AT&T', 'Aviation', 'Bermuda Highball', 'Bijou', 'Bluebird', 'Bombay Cassis', 'Boomerang', 'Boxcar', 'Bramble', 'Casino', 'Casino Royale', 'Cherry Electric Lemonade', 'Clover Club', 'Corpse Reviver', 'Derby', 'Dragonfly', 'Dry Martini', 'Dubonnet Cocktail', 'English Highball', 'English Rose Cocktail', 'Flying Dutchman', 'French 75', 'French Negroni', 'Garibaldi Negroni', \"Gentleman's Club\", 'Gimlet', 'Gin and Soda', 'Gin And Tonic', 'Gin Basil Smash', 'Gin Cooler', 'Gin Daisy', 'Gin Fizz', 'Gin Lemon', 'Gin Rickey', 'Gin Sling', 'Gin Smash', 'Gin Sour', 'Gin Squirt', 'Gin Swizzle', 'Gin Toddy', 'Gin Tonic', 'Grass Skirt', 'Hawaiian Cocktail', 'Imperial Cocktail', 'Jewel Of The Nile', 'Jitterbug', 'Lady Love Fizz', 'London Town', 'Lone Tree Cocktail', 'Lone Tree Cooler', 'Long Island Tea', 'Martinez 2', 'Martinez Cocktail', 'Martini', 'Monkey Gland', 'Mountain Bramble', 'Munich Mule', 'National Aquarium', 'Negroni', 'Orange Oasis', 'Orange Rosemary Collins', 'Paradise', 'Pegu Club', 'Pink Gin', 'Pink Lady', 'Pink Moon', 'Poppy Cocktail', 'Queen Elizabeth', 'Ramos Gin Fizz', 'Rose', 'Rosemary Blue', 'Royal Fizz', 'Royal Gin Fizz', 'Ruby Tuesday', 'Salted Toffee Martini', 'Salty Dog', 'Singapore Sling', 'Surf City Lifesaver', 'The Laverstoke', 'The Philosopher', 'The Strange Weaver', 'Tom Collins', 'Turf Cocktail', 'Tuxedo Cocktail']]\n",
            "\n",
            "Impossible. 69 Special is unknown. \n",
            "Enter a cocktail from the list :\n",
            "[['3-Mile Long Island Iced Tea', '69 Special', 'A1', 'Abbey Cocktail', 'Abbey Martini', 'Ace', 'Adam & Eve', 'Addison', 'Alaska Cocktail', 'Alexander', 'Allies Cocktail', 'Angel Face', 'Archbishop', 'Army special', 'Arthur Tompkins', 'Artillery', 'AT&T', 'Aviation', 'Bermuda Highball', 'Bijou', 'Bluebird', 'Bombay Cassis', 'Boomerang', 'Boxcar', 'Bramble', 'Casino', 'Casino Royale', 'Cherry Electric Lemonade', 'Clover Club', 'Corpse Reviver', 'Derby', 'Dragonfly', 'Dry Martini', 'Dubonnet Cocktail', 'English Highball', 'English Rose Cocktail', 'Flying Dutchman', 'French 75', 'French Negroni', 'Garibaldi Negroni', \"Gentleman's Club\", 'Gimlet', 'Gin and Soda', 'Gin And Tonic', 'Gin Basil Smash', 'Gin Cooler', 'Gin Daisy', 'Gin Fizz', 'Gin Lemon', 'Gin Rickey', 'Gin Sling', 'Gin Smash', 'Gin Sour', 'Gin Squirt', 'Gin Swizzle', 'Gin Toddy', 'Gin Tonic', 'Grass Skirt', 'Hawaiian Cocktail', 'Imperial Cocktail', 'Jewel Of The Nile', 'Jitterbug', 'Lady Love Fizz', 'London Town', 'Lone Tree Cocktail', 'Lone Tree Cooler', 'Long Island Tea', 'Martinez 2', 'Martinez Cocktail', 'Martini', 'Monkey Gland', 'Mountain Bramble', 'Munich Mule', 'National Aquarium', 'Negroni', 'Orange Oasis', 'Orange Rosemary Collins', 'Paradise', 'Pegu Club', 'Pink Gin', 'Pink Lady', 'Pink Moon', 'Poppy Cocktail', 'Queen Elizabeth', 'Ramos Gin Fizz', 'Rose', 'Rosemary Blue', 'Royal Fizz', 'Royal Gin Fizz', 'Ruby Tuesday', 'Salted Toffee Martini', 'Salty Dog', 'Singapore Sling', 'Surf City Lifesaver', 'The Laverstoke', 'The Philosopher', 'The Strange Weaver', 'Tom Collins', 'Turf Cocktail', 'Tuxedo Cocktail']]\n",
            "\n",
            "You have chosen to make the cocktail : 69 Special\n",
            "\n",
            "Intrusction for 69 Special:\n",
            "Alcoholic Ordinary Drink\n",
            "You will need: Lemon juice, 7-Up, Gin,  \n",
            "You can put this in a Collins Glass\n"
          ]
        }
      ],
      "source": [
        "wishIngredientList = ask_ingredient()\n",
        "ask_cocktail(wishIngredientList)\n"
      ]
    }
  ],
  "metadata": {
    "colab": {
      "collapsed_sections": [],
      "name": "cocktail.ipynb",
      "provenance": []
    },
    "interpreter": {
      "hash": "ad751df4e56836d354761e7d171926440ad4f08632b390ef4fe497d1b6e4d7e3"
    },
    "kernelspec": {
      "display_name": "Python 3.10.4 64-bit",
      "language": "python",
      "name": "python3"
    },
    "language_info": {
      "codemirror_mode": {
        "name": "ipython",
        "version": 3
      },
      "file_extension": ".py",
      "mimetype": "text/x-python",
      "name": "python",
      "nbconvert_exporter": "python",
      "pygments_lexer": "ipython3",
      "version": "3.11.0"
    }
  },
  "nbformat": 4,
  "nbformat_minor": 0
}
