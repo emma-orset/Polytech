{
 "cells": [
  {
   "cell_type": "markdown",
   "metadata": {},
   "source": [
    "# PROJ632\n",
    "\n",
    "### Prix du ***carburant***"
   ]
  },
  {
   "cell_type": "code",
   "execution_count": 3,
   "metadata": {},
   "outputs": [],
   "source": [
    "from selenium import webdriver\n",
    "from selenium.webdriver.common.by import By\n",
    "from selenium.webdriver.support.ui import Select\n",
    "import time"
   ]
  },
  {
   "cell_type": "code",
   "execution_count": 4,
   "metadata": {},
   "outputs": [
    {
     "name": "stderr",
     "output_type": "stream",
     "text": [
      "C:\\Users\\emmao\\AppData\\Local\\Temp\\ipykernel_16544\\3823117362.py:1: DeprecationWarning: executable_path has been deprecated, please pass in a Service object\n",
      "  driver = webdriver.Chrome(executable_path=\"chromedriver.exe\")\n"
     ]
    }
   ],
   "source": [
    "driver = webdriver.Chrome(executable_path=\"chromedriver.exe\")\n",
    "driver.get(\"https://www.prix-carburants.gouv.fr/\")"
   ]
  },
  {
   "cell_type": "code",
   "execution_count": 5,
   "metadata": {},
   "outputs": [
    {
     "name": "stdout",
     "output_type": "stream",
     "text": [
      "Numéro du département ? Exemple : 74000 ou 74\n"
     ]
    }
   ],
   "source": [
    "check_gazole=driver.find_element(By.ID,\"rechercher_choix_carbu_0\").click()\n",
    "\n",
    "print(\"Numéro du département ? Exemple : 74000 ou 74\")\n",
    "dep = input()"
   ]
  },
  {
   "cell_type": "code",
   "execution_count": 6,
   "metadata": {},
   "outputs": [],
   "source": [
    "select_dep = driver.find_element(By.ID,\"rechercher_localisation\").send_keys(dep)\n",
    "submit = driver.find_element(By.CLASS_NAME, \"submit_recherche\").click()"
   ]
  },
  {
   "cell_type": "code",
   "execution_count": 7,
   "metadata": {},
   "outputs": [
    {
     "name": "stdout",
     "output_type": "stream",
     "text": [
      "Prix le moins cher : 1.933€\n",
      "Allez à :\n",
      "Carrefour annecy | Carrefour\n",
      "134 avenue de geneve\n",
      "74000 Annecy\n",
      "\n"
     ]
    }
   ],
   "source": [
    "price = driver.find_element(By.XPATH,\"//tbody[1]/tr[3]/td[2]/span[1]/strong[1]\").text\n",
    "\n",
    "societe = driver.find_element(By.XPATH,\"//div[@class='pdv-description'][1]/h4[@class='title'][1]/strong[1]\").text\n",
    "adress = driver.find_element(By.XPATH,\"//div[@class='pdv-description']/span[1]\").text\n",
    "ville = driver.find_element(By.XPATH,\"//div[@class='pdv-description']/span[2]\").text\n",
    "\n",
    "print(\"Prix le moins cher : \" + price + \"€\\nAllez à :\\n\" + societe + \"\\n\" + adress + \"\\n\" + ville + \"\\n\")"
   ]
  }
 ],
 "metadata": {
  "interpreter": {
   "hash": "ad751df4e56836d354761e7d171926440ad4f08632b390ef4fe497d1b6e4d7e3"
  },
  "kernelspec": {
   "display_name": "Python 3.10.4 64-bit",
   "language": "python",
   "name": "python3"
  },
  "language_info": {
   "codemirror_mode": {
    "name": "ipython",
    "version": 3
   },
   "file_extension": ".py",
   "mimetype": "text/x-python",
   "name": "python",
   "nbconvert_exporter": "python",
   "pygments_lexer": "ipython3",
   "version": "3.10.4"
  },
  "orig_nbformat": 4
 },
 "nbformat": 4,
 "nbformat_minor": 2
}
