{
 "cells": [
  {
   "cell_type": "markdown",
   "metadata": {},
   "source": [
    "# PROJ631 – Projet algorithmique\n",
    "## Compte rendu Emma ORSET\n",
    "## Compression de données par codage de Huffman"
   ]
  },
  {
   "cell_type": "code",
   "execution_count": 552,
   "metadata": {},
   "outputs": [],
   "source": [
    "import os"
   ]
  },
  {
   "cell_type": "markdown",
   "metadata": {},
   "source": [
    "## Etape 1 : Détermination de l’alphabet et des fréquences de caractères\n",
    "\n",
    "Je récupère le fichier qui contient mon texte. Je l'ouvre puis je le lis. \n",
    "Cela créer une chaine de caractère."
   ]
  },
  {
   "cell_type": "code",
   "execution_count": 553,
   "metadata": {},
   "outputs": [
    {
     "name": "stdout",
     "output_type": "stream",
     "text": [
      "Je crée ce texte pour   mettre les caractères que je souhaite afin de voir si ça marche. \n",
      "Des chiffres et autres caractères : 2, \"34\", (28), |, [], °, @, =, £, *, µ.\n"
     ]
    }
   ],
   "source": [
    "#file_name = \"extraitalice\"\n",
    "#file_name = \"alice\"\n",
    "#file_name = \"textesimple\"\n",
    "#file_name = \"bonjour\"\n",
    "file_name = \"texteperso\"\n",
    "with open(file_name +\"/\"+file_name + \".txt\",\"r\", encoding=\"UTF-8\") as f:\n",
    "    text = f.read()\n",
    "\n",
    "print(text)"
   ]
  },
  {
   "cell_type": "markdown",
   "metadata": {},
   "source": [
    "Je crée une liste qui contient chaque caractère de mon texte et je la trie selon l'ordre de la table ASCII."
   ]
  },
  {
   "cell_type": "code",
   "execution_count": 554,
   "metadata": {},
   "outputs": [
    {
     "name": "stdout",
     "output_type": "stream",
     "text": [
      "['\\n', ' ', ' ', ' ', ' ', ' ', ' ', ' ', ' ', ' ', ' ', ' ', ' ', ' ', ' ', ' ', ' ', ' ', ' ', ' ', ' ', ' ', ' ', ' ', ' ', ' ', ' ', ' ', ' ', ' ', ' ', ' ', ' ', ' ', ' ', ' ', '\"', '\"', '(', ')', '*', ',', ',', ',', ',', ',', ',', ',', ',', ',', ',', '.', '.', '2', '2', '3', '4', '8', ':', '=', '@', 'D', 'J', '[', ']', 'a', 'a', 'a', 'a', 'a', 'a', 'a', 'a', 'a', 'c', 'c', 'c', 'c', 'c', 'c', 'c', 'c', 'd', 'e', 'e', 'e', 'e', 'e', 'e', 'e', 'e', 'e', 'e', 'e', 'e', 'e', 'e', 'e', 'e', 'e', 'e', 'e', 'f', 'f', 'f', 'h', 'h', 'h', 'i', 'i', 'i', 'i', 'i', 'j', 'l', 'm', 'm', 'n', 'o', 'o', 'o', 'p', 'q', 'r', 'r', 'r', 'r', 'r', 'r', 'r', 'r', 'r', 'r', 'r', 's', 's', 's', 's', 's', 's', 's', 's', 't', 't', 't', 't', 't', 't', 't', 't', 't', 'u', 'u', 'u', 'u', 'v', 'x', '|', '£', '°', 'µ', 'ç', 'è', 'è', 'é']\n"
     ]
    }
   ],
   "source": [
    "list_sorted_label = []\n",
    "\n",
    "for i in text:\n",
    "    \n",
    "    list_sorted_label.append(i)\n",
    "\n",
    "list_sorted_label.sort()\n",
    "\n",
    "print(list_sorted_label)"
   ]
  },
  {
   "cell_type": "markdown",
   "metadata": {},
   "source": [
    "Je créer deux listes :\n",
    "- list_label contient une ocurrence de chaque élement de la liste triée ci-dessus\n",
    "- list_freq contient la fréquence de ces éléments\n",
    "\n",
    "Cela crée mon alphabet"
   ]
  },
  {
   "cell_type": "code",
   "execution_count": 555,
   "metadata": {},
   "outputs": [
    {
     "name": "stdout",
     "output_type": "stream",
     "text": [
      "['\\n', ' ', '\"', '(', ')', '*', ',', '.', '2', '3', '4', '8', ':', '=', '@', 'D', 'J', '[', ']', 'a', 'c', 'd', 'e', 'f', 'h', 'i', 'j', 'l', 'm', 'n', 'o', 'p', 'q', 'r', 's', 't', 'u', 'v', 'x', '|', '£', '°', 'µ', 'ç', 'è', 'é']\n",
      "[1, 35, 2, 1, 1, 1, 10, 2, 2, 1, 1, 1, 1, 1, 1, 1, 1, 1, 1, 9, 8, 1, 19, 3, 3, 5, 1, 1, 2, 1, 3, 1, 1, 11, 8, 9, 4, 1, 1, 1, 1, 1, 1, 1, 2, 1]\n"
     ]
    }
   ],
   "source": [
    "list_label = []\n",
    "list_freq = []\n",
    "\n",
    "for i in list_sorted_label:\n",
    "    if i not in list_label:\n",
    "        list_label.append(i)\n",
    "        list_freq.append(list_sorted_label.count(i))\n",
    "\n",
    "print(list_label)\n",
    "print(list_freq)"
   ]
  },
  {
   "cell_type": "markdown",
   "metadata": {},
   "source": [
    "Afin de trier mes deux listes selon la liste des fréquences, j'utilise des tuples."
   ]
  },
  {
   "cell_type": "code",
   "execution_count": 556,
   "metadata": {},
   "outputs": [
    {
     "name": "stdout",
     "output_type": "stream",
     "text": [
      "[1, 1, 1, 1, 1, 1, 1, 1, 1, 1, 1, 1, 1, 1, 1, 1, 1, 1, 1, 1, 1, 1, 1, 1, 1, 1, 1, 1, 2, 2, 2, 2, 2, 3, 3, 3, 4, 5, 8, 8, 9, 9, 10, 11, 19, 35]\n",
      "['\\n', '(', ')', '*', '3', '4', '8', ':', '=', '@', 'D', 'J', '[', ']', 'd', 'j', 'l', 'n', 'p', 'q', 'v', 'x', '|', '£', '°', 'µ', 'ç', 'é', '\"', '.', '2', 'm', 'è', 'f', 'h', 'o', 'u', 'i', 'c', 's', 'a', 't', ',', 'r', 'e', ' ']\n"
     ]
    }
   ],
   "source": [
    "list_sorted_freq = zip(list_freq,list_label)\n",
    "list_sorted_freq = sorted(list_sorted_freq)\n",
    "list_sorted_freq = zip(*list_sorted_freq)\n",
    "\n",
    "list_freq, list_label = [[*tuple] for tuple in list_sorted_freq]\n",
    "\n",
    "print(list_freq)\n",
    "print(list_label)"
   ]
  },
  {
   "cell_type": "markdown",
   "metadata": {},
   "source": [
    "Il est demandé d'afficher le nombre de caractères que contient notre nouvel alphabet.\n",
    "J'affiche ensuite chaque caractère et sa fréquence associée comme demandé dans le sujet."
   ]
  },
  {
   "cell_type": "code",
   "execution_count": 557,
   "metadata": {},
   "outputs": [
    {
     "name": "stdout",
     "output_type": "stream",
     "text": [
      "46\n",
      "\n",
      "\\n 1\n",
      "( 1\n",
      ") 1\n",
      "* 1\n",
      "3 1\n",
      "4 1\n",
      "8 1\n",
      ": 1\n",
      "= 1\n",
      "@ 1\n",
      "D 1\n",
      "J 1\n",
      "[ 1\n",
      "] 1\n",
      "d 1\n",
      "j 1\n",
      "l 1\n",
      "n 1\n",
      "p 1\n",
      "q 1\n",
      "v 1\n",
      "x 1\n",
      "| 1\n",
      "£ 1\n",
      "° 1\n",
      "µ 1\n",
      "ç 1\n",
      "é 1\n",
      "\" 2\n",
      ". 2\n",
      "2 2\n",
      "m 2\n",
      "è 2\n",
      "f 3\n",
      "h 3\n",
      "o 3\n",
      "u 4\n",
      "i 5\n",
      "c 8\n",
      "s 8\n",
      "a 9\n",
      "t 9\n",
      ", 10\n",
      "r 11\n",
      "e 19\n",
      "  35\n",
      "\n"
     ]
    }
   ],
   "source": [
    "length_dict = len(list_label)\n",
    "text_freq = str(length_dict) + \"\\n\\n\"\n",
    "\n",
    "for i in range (length_dict):\n",
    "    if(list_label[i]==\"\\n\"):\n",
    "        text_freq = text_freq + \"\\\\n\" + \" \" + str(list_freq[i]) + \"\\n\"\n",
    "    else:\n",
    "        text_freq = text_freq + list_label[i] + \" \" + str(list_freq[i]) + \"\\n\"\n",
    "\n",
    "print(text_freq)"
   ]
  },
  {
   "cell_type": "markdown",
   "metadata": {},
   "source": [
    "J'écris mon dictionnaire dans un fichier en écrasant l'ancien contenu si le fichier existait déjà."
   ]
  },
  {
   "cell_type": "code",
   "execution_count": 558,
   "metadata": {},
   "outputs": [],
   "source": [
    "new_file = open(file_name +\"/\"+file_name + \"_freq.txt\", \"w\" ,encoding=\"UTF-8\")\n",
    "new_file.write(text_freq)\n",
    "new_file.close()"
   ]
  },
  {
   "cell_type": "markdown",
   "metadata": {},
   "source": [
    "Maintenant que j'ai mon dictionnaire, je peux commencer à compresser mon texte grâce à la technique de l'arbre de Huffman.\n",
    "\n",
    "## Etape 2 : Construction de l’arbre \n",
    "\n",
    "Dans un premier temps, je crée une classe Node.\n",
    "Je passe en paramètre :\n",
    "- label = le caractère (a)\n",
    "- freq = la fréquence de mon charactère dans le texte (4)\n",
    "- le noeud enfant de gauche et le noeud enfant de droite si ces derniers existent, sinon ça veut dire que c'est une feuille."
   ]
  },
  {
   "cell_type": "code",
   "execution_count": 559,
   "metadata": {},
   "outputs": [],
   "source": [
    "class node:\n",
    "    def __init__(self, label, freq, left_child=None, right_child=None):\n",
    "         # Label de la lettre : \"a\"\n",
    "        self.label = label\n",
    " \n",
    "        # Fréquence de la lettre : 4\n",
    "        self.freq = freq\n",
    " \n",
    "        # L'enfant gauche(0) de la lettre en question : de type node\n",
    "        self.left_child = left_child\n",
    " \n",
    "        # L'enfant droit(1) de la lettre en question : de type node\n",
    "        self.right_child = right_child\n",
    " \n",
    "        # Direction : 0 ou 1\n",
    "        self.direction = ''\n",
    "\n",
    "    def __str__(self):\n",
    "        return str(self.label) + \" \" + str(self.freq) + \" \" + str(self.left_child) + \" \" + str(self.right_child)"
   ]
  },
  {
   "cell_type": "markdown",
   "metadata": {},
   "source": [
    "Pour créer l'algorithme, j'ai d'abord créé les feuilles.\n",
    "Chaque caractère et sa fréquence sont donc une feuille que j'ajoute à une liste."
   ]
  },
  {
   "cell_type": "code",
   "execution_count": 560,
   "metadata": {},
   "outputs": [
    {
     "name": "stdout",
     "output_type": "stream",
     "text": [
      "\n",
      " 1 None None\n",
      "( 1 None None\n",
      ") 1 None None\n",
      "* 1 None None\n",
      "3 1 None None\n",
      "4 1 None None\n",
      "8 1 None None\n",
      ": 1 None None\n",
      "= 1 None None\n",
      "@ 1 None None\n",
      "D 1 None None\n",
      "J 1 None None\n",
      "[ 1 None None\n",
      "] 1 None None\n",
      "d 1 None None\n",
      "j 1 None None\n",
      "l 1 None None\n",
      "n 1 None None\n",
      "p 1 None None\n",
      "q 1 None None\n",
      "v 1 None None\n",
      "x 1 None None\n",
      "| 1 None None\n",
      "£ 1 None None\n",
      "° 1 None None\n",
      "µ 1 None None\n",
      "ç 1 None None\n",
      "é 1 None None\n",
      "\" 2 None None\n",
      ". 2 None None\n",
      "2 2 None None\n",
      "m 2 None None\n",
      "è 2 None None\n",
      "f 3 None None\n",
      "h 3 None None\n",
      "o 3 None None\n",
      "u 4 None None\n",
      "i 5 None None\n",
      "c 8 None None\n",
      "s 8 None None\n",
      "a 9 None None\n",
      "t 9 None None\n",
      ", 10 None None\n",
      "r 11 None None\n",
      "e 19 None None\n",
      "  35 None None\n"
     ]
    }
   ],
   "source": [
    "list_node = []\n",
    "\n",
    "for i in range(len(list_label)):\n",
    "    list_node.append(node(list_label[i], list_freq[i]))\n",
    "\n",
    "for i in range(len(list_node)):\n",
    "    print(list_node[i])"
   ]
  },
  {
   "cell_type": "markdown",
   "metadata": {},
   "source": [
    "L’algorithme  repose sur une structure d’arbre binaire où tous les nœuds internes ont exactement deux successeurs. \n",
    "Les feuilles sont étiquetées avec les caractères de l’alphabet.\n",
    "Les branches sont étiquetées par 0 (fils gauche) et 1 (fils droit). \n",
    "Les chemins depuis la racine jusqu’aux feuilles constituent les codes des caractères.  \n",
    "\n",
    "Je fais une boucle qui s'execute tant qu'on n'est pas à la racine de l'arbre."
   ]
  },
  {
   "cell_type": "code",
   "execution_count": 561,
   "metadata": {},
   "outputs": [
    {
     "name": "stdout",
     "output_type": "stream",
     "text": [
      "165 165 69 69 34 34 16 16 8 8 4 4 2 2 D 1 None None J 1 None None 2 2 [ 1 None None ] 1 None None 4 4 2 2 d 1 None None j 1 None None 2 2 l 1 None None n 1 None None 8 8 4 4 2 2 p 1 None None q 1 None None 2 2 v 1 None None x 1 None None 4 4 2 2 | 1 None None £ 1 None None 2 2 ° 1 None None µ 1 None None 18 18 a 9 None None t 9 None None   35 None None 96 96 39 39 e 19 None None 20 20 , 10 None None 10 10 i 5 None None 5 5 2 2 ç 1 None None é 1 None None f 3 None None 57 57 25 25 r 11 None None 14 14 6 6 h 3 None None o 3 None None c 8 None None 32 32 16 16 s 8 None None 8 8 u 4 None None 4 4 \" 2 None None . 2 None None 16 16 8 8 4 4 2 2 None None m 2 None None 4 4 è 2 None None 2 2 \n",
      " 1 None None ( 1 None None 8 8 4 4 2 2 ) 1 None None * 1 None None 2 2 3 1 None None 4 1 None None 4 4 2 2 8 1 None None : 1 None None 2 2 = 1 None None @ 1 None None\n"
     ]
    }
   ],
   "source": [
    "while len(list_node) > 1:\n",
    "\n",
    "    list_node = sorted(list_node, key=lambda x: x.freq)\n",
    " \n",
    "    # Affectation des deux noeuds les plus petits\n",
    "    node_left = list_node[0]\n",
    "    node_right = list_node[1]\n",
    " \n",
    "    # Affectation d'une direction à ces deux noeuds\n",
    "    node_left.direction = 0\n",
    "    node_right.direction = 1\n",
    "\n",
    "    # La fréquence du parent devient la somme de la fréquence de ses deux enfants\n",
    "    freq_parent = node_left.freq + node_right.freq\n",
    "\n",
    "    # Enfin, on crée le noued parents avec les informations récoltées\n",
    "    node_parent = node(freq_parent,freq_parent , node_left, node_right)\n",
    " \n",
    " \n",
    "    # Suppression des noeuds enfants pour ne garder que le noeud parent\n",
    "    list_node.remove(node_left)\n",
    "    list_node.remove(node_right)\n",
    "    list_node.append(node_parent)\n",
    "\n",
    "print(list_node[0])"
   ]
  },
  {
   "cell_type": "markdown",
   "metadata": {},
   "source": [
    "Comme on peut le voir, on obtient une liste d'un seul élément contenant tous les noeuds.\n",
    "Pour créer l'arbre, il faut parcourir cet élément récursivement dans le but de créer le code binaire de chaque caractère."
   ]
  },
  {
   "cell_type": "code",
   "execution_count": 562,
   "metadata": {},
   "outputs": [],
   "source": [
    "def createListNodes(node, binary, list):\n",
    "    # Créer le code binaire\n",
    "    binary = binary + str(node.direction) \n",
    "\n",
    "    dict_comp = {}\n",
    "    \n",
    "    # Si le noeud contient un enfant gauche ou droit, alors ce n'est pas une feuille et il faut rappeler la fonction\n",
    "    if (node.left_child):\n",
    "        createListNodes(node.left_child, binary,list)\n",
    "\n",
    "    if (node.right_child):\n",
    "        createListNodes(node.right_child, binary,list)\n",
    "\n",
    "    # Si le noeud n'a pas d'enfant, c'est une feuille.\n",
    "    # On peut donc l'ajouter dans le dictionnaire et lui affecter son code binaire\n",
    "    if(not node.left_child and not node.right_child):\n",
    "        dict_comp[node.label] = binary\n",
    "        # Je créer une liste de dictionnaire\n",
    "        list.append(dict_comp)\n",
    "        \n",
    "    return list "
   ]
  },
  {
   "cell_type": "markdown",
   "metadata": {},
   "source": [
    "Voici donc à quoi ressemble la liste de dictionnaire après appel de la fonction."
   ]
  },
  {
   "cell_type": "code",
   "execution_count": 563,
   "metadata": {},
   "outputs": [
    {
     "name": "stdout",
     "output_type": "stream",
     "text": [
      "[{'D': '0000000'}, {'J': '0000001'}, {'[': '0000010'}, {']': '0000011'}, {'d': '0000100'}, {'j': '0000101'}, {'l': '0000110'}, {'n': '0000111'}, {'p': '0001000'}, {'q': '0001001'}, {'v': '0001010'}, {'x': '0001011'}, {'|': '0001100'}, {'£': '0001101'}, {'°': '0001110'}, {'µ': '0001111'}, {'a': '0010'}, {'t': '0011'}, {' ': '01'}, {'e': '100'}, {',': '1010'}, {'i': '10110'}, {'ç': '1011100'}, {'é': '1011101'}, {'f': '101111'}, {'r': '1100'}, {'h': '110100'}, {'o': '110101'}, {'c': '11011'}, {'s': '11100'}, {'u': '111010'}, {'\"': '1110110'}, {'.': '1110111'}, {'2': '1111000'}, {'m': '1111001'}, {'è': '1111010'}, {'\\n': '11110110'}, {'(': '11110111'}, {')': '11111000'}, {'*': '11111001'}, {'3': '11111010'}, {'4': '11111011'}, {'8': '11111100'}, {':': '11111101'}, {'=': '11111110'}, {'@': '11111111'}]\n"
     ]
    }
   ],
   "source": [
    "binary = \"\"\n",
    "list = []\n",
    "\n",
    "list_nodes = createListNodes(list_node[0], binary,list )\n",
    "\n",
    "print(list_nodes)"
   ]
  },
  {
   "cell_type": "markdown",
   "metadata": {},
   "source": [
    "On peut récupérer la clef, la valeur, ou les les deux de cette manière :"
   ]
  },
  {
   "cell_type": "code",
   "execution_count": 564,
   "metadata": {},
   "outputs": [
    {
     "name": "stdout",
     "output_type": "stream",
     "text": [
      "J\n",
      "0000001\n",
      "J 0000001\n"
     ]
    }
   ],
   "source": [
    "for key in list_nodes[1].keys():\n",
    "    print (key)\n",
    "\n",
    "for value in list_nodes[1].values():\n",
    "    print (value)\n",
    "\n",
    "for key,value in list_nodes[1].items():\n",
    "    print(key, value)"
   ]
  },
  {
   "cell_type": "markdown",
   "metadata": {},
   "source": [
    "## Etape 3 : Codage du texte\n",
    "\n",
    "Je créer une liste qui contient les caractères de mon texte de base."
   ]
  },
  {
   "cell_type": "code",
   "execution_count": 565,
   "metadata": {},
   "outputs": [
    {
     "name": "stdout",
     "output_type": "stream",
     "text": [
      "['J', 'e', ' ', 'c', 'r', 'é', 'e', ' ', 'c', 'e', ' ', 't', 'e', 'x', 't', 'e', ' ', 'p', 'o', 'u', 'r', ' ', ' ', ' ', 'm', 'e', 't', 't', 'r', 'e', ' ', 'l', 'e', 's', ' ', 'c', 'a', 'r', 'a', 'c', 't', 'è', 'r', 'e', 's', ' ', 'q', 'u', 'e', ' ', 'j', 'e', ' ', 's', 'o', 'u', 'h', 'a', 'i', 't', 'e', ' ', 'a', 'f', 'i', 'n', ' ', 'd', 'e', ' ', 'v', 'o', 'i', 'r', ' ', 's', 'i', ' ', 'ç', 'a', ' ', 'm', 'a', 'r', 'c', 'h', 'e', '.', ' ', '\\n', 'D', 'e', 's', ' ', 'c', 'h', 'i', 'f', 'f', 'r', 'e', 's', ' ', 'e', 't', ' ', 'a', 'u', 't', 'r', 'e', 's', ' ', 'c', 'a', 'r', 'a', 'c', 't', 'è', 'r', 'e', 's', ' ', ':', ' ', '2', ',', ' ', '\"', '3', '4', '\"', ',', ' ', '(', '2', '8', ')', ',', ' ', '|', ',', ' ', '[', ']', ',', ' ', '°', ',', ' ', '@', ',', ' ', '=', ',', ' ', '£', ',', ' ', '*', ',', ' ', 'µ', '.']\n"
     ]
    }
   ],
   "source": [
    "list_text = []\n",
    "\n",
    "for i in text:\n",
    "    list_text.append(i)\n",
    "    \n",
    "print(list_text)"
   ]
  },
  {
   "cell_type": "markdown",
   "metadata": {},
   "source": [
    "Je parcours la liste de mon texte et je remplace chaque caractère par le code binaire qui correspond en parcourant ma liste de dictionnaire."
   ]
  },
  {
   "cell_type": "code",
   "execution_count": 566,
   "metadata": {},
   "outputs": [
    {
     "name": "stdout",
     "output_type": "stream",
     "text": [
      "['0000001', '100', '01', '11011', '1100', '1011101', '100', '01', '11011', '100', '01', '0011', '100', '0001011', '0011', '100', '01', '0001000', '110101', '111010', '1100', '01', '01', '01', '1111001', '100', '0011', '0011', '1100', '100', '01', '0000110', '100', '11100', '01', '11011', '0010', '1100', '0010', '11011', '0011', '1111010', '1100', '100', '11100', '01', '0001001', '111010', '100', '01', '0000101', '100', '01', '11100', '110101', '111010', '110100', '0010', '10110', '0011', '100', '01', '0010', '101111', '10110', '0000111', '01', '0000100', '100', '01', '0001010', '110101', '10110', '1100', '01', '11100', '10110', '01', '1011100', '0010', '01', '1111001', '0010', '1100', '11011', '110100', '100', '1110111', '01', '11110110', '0000000', '100', '11100', '01', '11011', '110100', '10110', '101111', '101111', '1100', '100', '11100', '01', '100', '0011', '01', '0010', '111010', '0011', '1100', '100', '11100', '01', '11011', '0010', '1100', '0010', '11011', '0011', '1111010', '1100', '100', '11100', '01', '11111101', '01', '1111000', '1010', '01', '1110110', '11111010', '11111011', '1110110', '1010', '01', '11110111', '1111000', '11111100', '11111000', '1010', '01', '0001100', '1010', '01', '0000010', '0000011', '1010', '01', '0001110', '1010', '01', '11111111', '1010', '01', '11111110', '1010', '01', '0001101', '1010', '01', '11111001', '1010', '01', '0001111', '1110111']\n"
     ]
    }
   ],
   "source": [
    "for i in range(len(list_text)):\n",
    "    for j in list_nodes:\n",
    "        for cle,valeur in j.items():\n",
    "            if (cle == list_text[i]):\n",
    "                list_text[i] = valeur\n",
    "print(list_text)"
   ]
  },
  {
   "cell_type": "markdown",
   "metadata": {},
   "source": [
    "Je concatène les éléments de ma liste pour obtenir une chaine de caractère."
   ]
  },
  {
   "cell_type": "code",
   "execution_count": 567,
   "metadata": {},
   "outputs": [
    {
     "name": "stdout",
     "output_type": "stream",
     "text": [
      "0000001100011101111001011101100011101110001001110000010110011100010001000110101111010110001010111110011000011001111001000100001101001110001110110010110000101101100111111010110010011100010001001111010100010000101100011110011010111101011010000101011000111000100101011111011000001110100001001000100010101101011011011000111100101100110111000010011111001001011001101111010010011101110111110110000000010011100011101111010010110101111101111110010011100011000011010010111010001111001001110001110110010110000101101100111111010110010011100011111110101111100010100111101101111101011111011111011010100111110111111100011111100111110001010010001100101001000001000000111010010001110101001111111111010011111111010100100011011010011111100110100100011111110111\n"
     ]
    }
   ],
   "source": [
    "text_binary = \"\"\n",
    "for i in list_text:\n",
    "    text_binary = text_binary + i\n",
    "\n",
    "print(text_binary)"
   ]
  },
  {
   "cell_type": "markdown",
   "metadata": {},
   "source": [
    "Pour que cette chaine soit lu en binaire, je la transforme.\n",
    "J'ai pris une fonction sur internet qui permet de faire cela."
   ]
  },
  {
   "cell_type": "code",
   "execution_count": 568,
   "metadata": {},
   "outputs": [
    {
     "name": "stdout",
     "output_type": "stream",
     "text": [
      "b'\\x00\\xc7yv;\\x89\\xc1g\\x11\\x1a\\xf5\\x8a\\xf9\\x86y\\x10\\xd3\\x8e\\xcb\\x0bg\\xeb\\'\\x11=D,y\\xafZ\\x15\\x8e%}\\x83\\xa1\"+[c\\xcb7\\t\\xf2Y\\xbd\\'w\\xd8\\x04\\xe3\\xbd-}\\xf98\\xc3K\\xa3\\xc9\\xc7e\\x85\\xb3\\xf5\\x93\\x8f\\xeb\\xe2\\x9e\\xdf_}\\xa9\\xf7\\xf1\\xf9\\xf1H\\xcaA\\x03\\xa4u?\\xf4\\xffR6\\x9f\\x9aG\\xf7'\n"
     ]
    }
   ],
   "source": [
    "text_compressed = int(text_binary, base=2).to_bytes((len(text_binary)+7)//8, byteorder='big') \n",
    "print(text_compressed)"
   ]
  },
  {
   "cell_type": "markdown",
   "metadata": {},
   "source": [
    "J'écris ce que j'obtiens dans un fichier.\n",
    "Le \"wb\" permet de spécifier qu'on écrit en binaire."
   ]
  },
  {
   "cell_type": "code",
   "execution_count": 569,
   "metadata": {},
   "outputs": [],
   "source": [
    "new_file = open(file_name +\"/\"+file_name + \"_comp.bin\", \"wb\")\n",
    "new_file.write(text_compressed)\n",
    "new_file.close()"
   ]
  },
  {
   "cell_type": "markdown",
   "metadata": {},
   "source": [
    "## Etape 4 : Détermination du taux de compression\n",
    "\n",
    "Tout d'abord, je récupère les tailles de mon ancien fichier texte et mon nouveau fichier binaire.\n",
    "Je calcul le taux de compression selon la formule qui m'est donnée."
   ]
  },
  {
   "cell_type": "code",
   "execution_count": 570,
   "metadata": {},
   "outputs": [
    {
     "name": "stdout",
     "output_type": "stream",
     "text": [
      "Taille de texteperso_comp.bin : 93 bits\n",
      "Taille de texteperso.txt : 173 bits\n",
      "Le taux est de : 0.462\n"
     ]
    }
   ],
   "source": [
    "text_compressed_size = os.path.getsize(file_name +\"/\"+file_name + \"_comp.bin\") \n",
    "print('Taille de '+ file_name + \"_comp.bin\" +' :', text_compressed_size, 'bits')\n",
    "\n",
    "text_origin_size = os.path.getsize(file_name +\"/\"+file_name + '.txt') \n",
    "print('Taille de '+ file_name + \".txt\" +' :', text_origin_size, 'bits')\n",
    "\n",
    "amount = 1 - text_compressed_size/text_origin_size\n",
    "print(\"Le taux est de :\" ,round(amount,3))"
   ]
  },
  {
   "cell_type": "markdown",
   "metadata": {},
   "source": [
    "## Etape 5 : Détermination du nombre moyen de bits de stockage d'un caractère du texte compressé\n",
    "\n",
    "Je fais une simple moyenne. \n",
    "Je prends chaque code binaire et je regarde le nombre de caractère qu'il y a (ex : 001 = 3; 1110 = 4).\n",
    "J'additionne tous les chiffres et je divise cela par la longueur de ma list_text."
   ]
  },
  {
   "cell_type": "code",
   "execution_count": 571,
   "metadata": {},
   "outputs": [
    {
     "name": "stdout",
     "output_type": "stream",
     "text": [
      "4.496969696969697\n"
     ]
    }
   ],
   "source": [
    "dividend = 0\n",
    "diviseur = len(list_text)\n",
    "for i in range(diviseur):\n",
    "    dividend += len(list_text[i])\n",
    "\n",
    "average = dividend/diviseur\n",
    "\n",
    "print(average)"
   ]
  }
 ],
 "metadata": {
  "interpreter": {
   "hash": "ad751df4e56836d354761e7d171926440ad4f08632b390ef4fe497d1b6e4d7e3"
  },
  "kernelspec": {
   "display_name": "Python 3.10.4 64-bit",
   "language": "python",
   "name": "python3"
  },
  "language_info": {
   "codemirror_mode": {
    "name": "ipython",
    "version": 3
   },
   "file_extension": ".py",
   "mimetype": "text/x-python",
   "name": "python",
   "nbconvert_exporter": "python",
   "pygments_lexer": "ipython3",
   "version": "3.10.4"
  },
  "orig_nbformat": 4
 },
 "nbformat": 4,
 "nbformat_minor": 2
}
